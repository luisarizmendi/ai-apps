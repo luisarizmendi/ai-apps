{
 "cells": [
  {
   "cell_type": "markdown",
   "id": "6a013a36-e156-4212-8ade-5fee79e33680",
   "metadata": {},
   "source": [
    "Install dependencies"
   ]
  },
  {
   "cell_type": "code",
   "execution_count": null,
   "id": "acabbaee-35be-452b-8573-4d0974fa6340",
   "metadata": {},
   "outputs": [],
   "source": [
    "!python -m pip install torch torchvision torchaudio\n",
    "!python -m pip install ultralytics roboflow matplotlib"
   ]
  },
  {
   "cell_type": "markdown",
   "id": "ccca4b3e-92da-4064-9de2-f9eb28c3e0e5",
   "metadata": {},
   "source": [
    "Start the training"
   ]
  },
  {
   "cell_type": "code",
   "execution_count": 1,
   "id": "fb8218b5-61c9-4fe3-b5c6-1643beb39e28",
   "metadata": {},
   "outputs": [
    {
     "name": "stdout",
     "output_type": "stream",
     "text": [
      "/bin/bash: line 1: /home/larizmen/.local/bin/pip: cannot execute: required file not found\n"
     ]
    },
    {
     "ename": "ModuleNotFoundError",
     "evalue": "No module named 'torch'",
     "output_type": "error",
     "traceback": [
      "\u001b[0;31m---------------------------------------------------------------------------\u001b[0m",
      "\u001b[0;31mModuleNotFoundError\u001b[0m                       Traceback (most recent call last)",
      "Cell \u001b[0;32mIn[1], line 5\u001b[0m\n\u001b[1;32m      2\u001b[0m get_ipython()\u001b[38;5;241m.\u001b[39msystem(\u001b[38;5;124m'\u001b[39m\u001b[38;5;124mpip install ultralytics roboflow\u001b[39m\u001b[38;5;124m'\u001b[39m)\n\u001b[1;32m      4\u001b[0m \u001b[38;5;28;01mimport\u001b[39;00m \u001b[38;5;21;01mos\u001b[39;00m\n\u001b[0;32m----> 5\u001b[0m \u001b[38;5;28;01mimport\u001b[39;00m \u001b[38;5;21;01mtorch\u001b[39;00m\n\u001b[1;32m      6\u001b[0m \u001b[38;5;28;01mfrom\u001b[39;00m \u001b[38;5;21;01multralytics\u001b[39;00m \u001b[38;5;28;01mimport\u001b[39;00m YOLO\n\u001b[1;32m      7\u001b[0m \u001b[38;5;28;01mfrom\u001b[39;00m \u001b[38;5;21;01mroboflow\u001b[39;00m \u001b[38;5;28;01mimport\u001b[39;00m Roboflow\n",
      "\u001b[0;31mModuleNotFoundError\u001b[0m: No module named 'torch'"
     ]
    }
   ],
   "source": [
    "# 0. Preliminary Setup\n",
    "!pip install ultralytics roboflow\n",
    "\n",
    "import os\n",
    "import torch\n",
    "from ultralytics import YOLO\n",
    "from roboflow import Roboflow\n",
    "\n",
    "# 1. GPU Check\n",
    "print(f\"CUDA Available: {torch.cuda.is_available()}\")\n",
    "print(f\"Current Device: {torch.cuda.get_device_name(0) if torch.cuda.is_available() else 'No GPU'}\")\n",
    "\n",
    "# 2. Roboflow Dataset Download\n",
    "rf = Roboflow(api_key=\"YOUR_ROBOFLOW_API_KEY\")\n",
    "project = rf.workspace(\"your-workspace\").project(\"your-project\")\n",
    "version = project.version(1)  # Choose your dataset version\n",
    "dataset = version.download(\"yolov8\")\n",
    "\n",
    "# 3. Configuration\n",
    "CONFIG = {\n",
    "    'model': 'yolov8m.pt',  # Choose model size: n, s, m, l, x\n",
    "    'data': f\"{dataset}/data.yaml\",\n",
    "    'epochs': 100,\n",
    "    'batch': 16,  # Adjust based on GPU memory\n",
    "    'imgsz': 640,\n",
    "    'patience': 20,\n",
    "    'device': 0  # GPU index\n",
    "}\n",
    "\n",
    "# 4. Training\n",
    "model = YOLO(CONFIG['model'])\n",
    "results = model.train(\n",
    "    data=CONFIG['data'],\n",
    "    epochs=CONFIG['epochs'],\n",
    "    batch=CONFIG['batch'],\n",
    "    imgsz=CONFIG['imgsz'],\n",
    "    patience=CONFIG['patience'],\n",
    "    device=CONFIG['device'],\n",
    "    \n",
    "    # Optional advanced configurations\n",
    "    optimizer='Adam',\n",
    "    lr0=0.001,\n",
    "    lrf=0.1,\n",
    "    momentum=0.9,\n",
    "    weight_decay=0.0005,\n",
    "    warmup_epochs=3,\n",
    "    warmup_momentum=0.8,\n",
    "    \n",
    "    # Augmentations\n",
    "    augment=True,\n",
    "    hsv_h=0.015,  # Image HSV-Hue augmentation\n",
    "    hsv_s=0.7,   # Image HSV-Saturation augmentation\n",
    "    hsv_v=0.4,   # Image HSV-Value augmentation\n",
    "    degrees=45,  # Image rotation (+/- deg)\n",
    "    translate=0.1,  # Image translation (+/- fraction)\n",
    "    scale=0.5,   # Image scale (+/- gain)\n",
    "    shear=0.0,   # Image shear (+/- deg)\n",
    "    perspective=0.0,  # Image perspective\n",
    "    flipud=0.5,  # Image flip up-down\n",
    "    fliplr=0.5,  # Image flip left-right\n",
    "    mosaic=1.0,  # Image mosaic\n",
    "    mixup=0.0,   # Image mixup\n",
    ")\n",
    "\n",
    "# 5. Validation\n",
    "val_results = model.val(data=CONFIG['data'])\n",
    "\n",
    "# 6. Export (Optional)\n",
    "model.export(format='onnx')  # Export to ONNX\n",
    "model.export(format='torchscript')  # Export to TorchScript\n",
    "\n",
    "# 7. Plotting Results\n",
    "import matplotlib.pyplot as plt\n",
    "\n",
    "# Plot training results\n",
    "plt.figure(figsize=(15,5))\n",
    "plt.subplot(131)\n",
    "plt.plot(results.results_dict['train/box_loss'], label='Box Loss')\n",
    "plt.title('Training Box Loss')\n",
    "plt.subplot(132)\n",
    "plt.plot(results.results_dict['train/cls_loss'], label='Class Loss')\n",
    "plt.title('Training Class Loss')\n",
    "plt.subplot(133)\n",
    "plt.plot(results.results_dict['train/dfl_loss'], label='DFL Loss')\n",
    "plt.title('Training DFL Loss')\n",
    "plt.tight_layout()\n",
    "plt.show()\n",
    "\n",
    "# 8. Performance Metrics\n",
    "print(\"\\nValidation Metrics:\")\n",
    "for metric, value in val_results.results_dict.items():\n",
    "    print(f\"{metric}: {value}\")"
   ]
  },
  {
   "cell_type": "code",
   "execution_count": null,
   "id": "191cb92a-a8d1-4fab-945d-e1bec4821337",
   "metadata": {},
   "outputs": [],
   "source": []
  }
 ],
 "metadata": {
  "kernelspec": {
   "display_name": "Python 3 (ipykernel)",
   "language": "python",
   "name": "python3"
  },
  "language_info": {
   "codemirror_mode": {
    "name": "ipython",
    "version": 3
   },
   "file_extension": ".py",
   "mimetype": "text/x-python",
   "name": "python",
   "nbconvert_exporter": "python",
   "pygments_lexer": "ipython3",
   "version": "3.13.0"
  }
 },
 "nbformat": 4,
 "nbformat_minor": 5
}
