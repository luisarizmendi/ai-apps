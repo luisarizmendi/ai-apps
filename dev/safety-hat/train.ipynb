{
 "cells": [
  {
   "cell_type": "markdown",
   "id": "6a013a36-e156-4212-8ade-5fee79e33680",
   "metadata": {},
   "source": [
    "Install dependencies"
   ]
  },
  {
   "cell_type": "code",
   "execution_count": null,
   "id": "acabbaee-35be-452b-8573-4d0974fa6340",
   "metadata": {},
   "outputs": [],
   "source": [
    "!pip3 install torch torchvision torchaudio\n",
    "!pip3 install ultralytics roboflow matplotlib\n",
    "!pip3 install ultralytics roboflow"
   ]
  },
  {
   "cell_type": "markdown",
   "id": "ccca4b3e-92da-4064-9de2-f9eb28c3e0e5",
   "metadata": {},
   "source": [
    "Start the training"
   ]
  },
  {
   "cell_type": "code",
   "execution_count": null,
   "id": "fb8218b5-61c9-4fe3-b5c6-1643beb39e28",
   "metadata": {},
   "outputs": [],
   "source": [
    "import torch\n",
    "from ultralytics import YOLO\n",
    "\n",
    "# Check for GPU availability\n",
    "device = \"cuda:0\" if torch.cuda.is_available() else \"cpu\"\n",
    "\n",
    "print(f\"Using device: {device} ({'GPU' if device != 'cpu' else 'CPU'})\")\n"
   ]
  },
  {
   "cell_type": "code",
   "execution_count": null,
   "id": "3ecd0382",
   "metadata": {},
   "outputs": [],
   "source": [
    "\n",
    "CONFIG = {\n",
    "    'model': 'yolo11m.pt',  # Choose model size: n, s, m, l, x\n",
    "    'data': 'dev/safety-hat/datasets/dataset_v1/data.yaml',  \n",
    "    'epochs': 100,\n",
    "    'batch': 16 if device != 'cpu' else 4,  # Adjust batch size for CPU\n",
    "    'imgsz': 640,\n",
    "    'patience': 20,\n",
    "    'device': device,  # Automatically set the device\n",
    "}\n"
   ]
  },
  {
   "cell_type": "code",
   "execution_count": null,
   "id": "f4c48455",
   "metadata": {},
   "outputs": [],
   "source": [
    "\n",
    "# Training\n",
    "model = YOLO(CONFIG['model'])\n",
    "results = model.train(\n",
    "    data=CONFIG['data'],\n",
    "    epochs=CONFIG['epochs'],\n",
    "    batch=CONFIG['batch'],\n",
    "    imgsz=CONFIG['imgsz'],\n",
    "    patience=CONFIG['patience'],\n",
    "    device=CONFIG['device'],\n",
    "    \n",
    "    # Optional advanced configurations\n",
    "    optimizer='Adam',\n",
    "    lr0=0.001,\n",
    "    lrf=0.1,\n",
    "    momentum=0.9,\n",
    "    weight_decay=0.0005,\n",
    "    warmup_epochs=3,\n",
    "    warmup_momentum=0.8,\n",
    "    \n",
    "    # Augmentations\n",
    "    augment=True,\n",
    "    hsv_h=0.015,  # Image HSV-Hue augmentation\n",
    "    hsv_s=0.7,   # Image HSV-Saturation augmentation\n",
    "    hsv_v=0.4,   # Image HSV-Value augmentation\n",
    "    degrees=45,  # Image rotation (+/- deg)\n",
    "    translate=0.1,  # Image translation (+/- fraction)\n",
    "    scale=0.5,   # Image scale (+/- gain)\n",
    "    shear=0.0,   # Image shear (+/- deg)\n",
    "    perspective=0.0,  # Image perspective\n",
    "    flipud=0.5,  # Image flip up-down\n",
    "    fliplr=0.5,  # Image flip left-right\n",
    "    mosaic=1.0,  # Image mosaic\n",
    "    mixup=0.0,   # Image mixup\n",
    ")\n"
   ]
  },
  {
   "cell_type": "code",
   "execution_count": null,
   "id": "191cb92a-a8d1-4fab-945d-e1bec4821337",
   "metadata": {},
   "outputs": [],
   "source": []
  }
 ],
 "metadata": {
  "kernelspec": {
   "display_name": "Python 3 (ipykernel)",
   "language": "python",
   "name": "python3"
  },
  "language_info": {
   "codemirror_mode": {
    "name": "ipython",
    "version": 3
   },
   "file_extension": ".py",
   "mimetype": "text/x-python",
   "name": "python",
   "nbconvert_exporter": "python",
   "pygments_lexer": "ipython3",
   "version": "3.13.0"
  }
 },
 "nbformat": 4,
 "nbformat_minor": 5
}
